{
 "cells": [
  {
   "cell_type": "code",
   "execution_count": 1,
   "metadata": {},
   "outputs": [
    {
     "name": "stdout",
     "output_type": "stream",
     "text": [
      "---------------------------------------\n",
      "Bilangan : 5\n",
      "Bilangan 5 merupakan bilangan ganjil\n",
      "---------------------------------------\n",
      "Terima Kasih\n"
     ]
    }
   ],
   "source": [
    "#Menentukan bilangan genap dan ganjil\n",
    "ulang = True\n",
    "\n",
    "while ulang == True :\n",
    "\n",
    "    bil = int(input('Masukkan Angka : '))\n",
    "    print('---------------------------------------')\n",
    "    print(f'Bilangan : {bil}')\n",
    "\n",
    "    if bil % 2 == 0 :\n",
    "        print(f'Bilangan {bil} merupakan bilangan genap')\n",
    "    else:   \n",
    "        print(f'Bilangan {bil} merupakan bilangan ganjil')\n",
    "    \n",
    "    ulang = bool(input('Ulangi (\"YA\") / Jangan Ulangi (Enter)'))\n",
    "print('---------------------------------------')\n",
    "print('Terima Kasih')"
   ]
  },
  {
   "cell_type": "code",
   "execution_count": 1,
   "metadata": {},
   "outputs": [
    {
     "name": "stdout",
     "output_type": "stream",
     "text": [
      "3 Merupakan bilangan terbesar!\n"
     ]
    }
   ],
   "source": [
    "#Menentukan bilangan terbesar\n",
    "bil1 = int(input('Masukkan Bilangan pertama : '))\n",
    "bil2 = int(input('Masukkan Bilangan kedua : '))\n",
    "\n",
    "if bil1 > bil2 :\n",
    "    print(f'{bil1} Merupakan bilangan terbesar!')\n",
    "else : \n",
    "    print(f'{bil2} Merupakan bilangan terbesar!')"
   ]
  },
  {
   "cell_type": "code",
   "execution_count": 2,
   "metadata": {},
   "outputs": [
    {
     "name": "stdout",
     "output_type": "stream",
     "text": [
      "Nama mahasiswa : h \n",
      "NIM : h \n",
      "Mata Kuliah : g \n",
      "Jumlah kehadiran : 15 \n",
      "Nilai tugas : 96 \n",
      "Nilai UTS : 100 \n",
      "Nilai UAS : 80\n",
      "Total Nilai mata kuliah g adalah : 91.575 \n",
      "Nilai akhir mata kuliah g Adalah A\n"
     ]
    }
   ],
   "source": [
    "# Menentukan Nilai Matakuliah\n",
    "nim = input('Masukkan NIM Mahasiswa : ')\n",
    "nama_mhs = input('Masukkan nama mahasiswa : ')\n",
    "matkul = input('Masukkan nama mata kuliah : ')\n",
    "kehadiran = int(input('Masukkan Jumlah kehadiran dari 16 pertemuan'))\n",
    "while kehadiran > 16 :\n",
    "    print('Jumlah kehadiran salah, masukkan kehadiran kembali')\n",
    "    kehadiran = int(input('Masukkan Jumlah kehadiran dari 16 pertemuan'))\n",
    "\n",
    "if kehadiran < 12 :\n",
    "    print(f'Nama mahasiswa : {nama_mhs} \\nNIM : {nim} \\nMata Kuliah : {matkul} \\nJumlah kehadiran : {kehadiran}')\n",
    "    print(f'Nilai mata kuliah {matkul} adalah : E')\n",
    "else: \n",
    "    tugas = int(input('Masukkan nilai tugas mata kuliah : '))\n",
    "    uts = int(input('Masukkan nilai uts : '))\n",
    "    uas = int(input('Masukkan nilai uas : '))\n",
    "\n",
    "    nilai_akhir = (kehadiran/16) * 10 + tugas*0.2 + uts * 0.3 + uas * 0.4\n",
    "    \n",
    "    if nilai_akhir >=80 :\n",
    "        nilai = 'A'\n",
    "    elif nilai_akhir >= 80:\n",
    "        nilai= 'B'\n",
    "    elif nilai_akhir >= 75:\n",
    "        nilai= 'C'\n",
    "    elif nilai_akhir >= 70:\n",
    "        nilai = '70'\n",
    "    else :\n",
    "        nilai = 'E'\n",
    "\n",
    "    print(f'Nama mahasiswa : {nama_mhs} \\nNIM : {nim} \\nMata Kuliah : {matkul} \\nJumlah kehadiran : {kehadiran} \\nNilai tugas : {tugas} \\nNilai UTS : {uts} \\nNilai UAS : {uas}' )\n",
    "    print(f'Total Nilai mata kuliah {matkul} adalah : {nilai_akhir} \\nNilai akhir mata kuliah {matkul} Adalah {nilai}')"
   ]
  },
  {
   "cell_type": "code",
   "execution_count": 2,
   "metadata": {},
   "outputs": [
    {
     "name": "stdout",
     "output_type": "stream",
     "text": [
      "1033778\n",
      "3100000\n"
     ]
    }
   ],
   "source": [
    "total = 327600 + 538178 + 168000\n",
    "print(total)\n",
    "print(50000 * 62)"
   ]
  },
  {
   "cell_type": "code",
   "execution_count": 2,
   "metadata": {},
   "outputs": [
    {
     "name": "stdout",
     "output_type": "stream",
     "text": [
      "Urutan bilangan dari terkecil ke terbesar adalah 2, 1, 3\n",
      "Urutan bilangan dari terkecil ke terbesar adalah 1, 2, 3\n",
      "Urutan bilangan dari terkecil ke terbesar adalah 1, 2, 3\n"
     ]
    }
   ],
   "source": [
    "# Mengurutkan bilangan terkecil hingga terbesar\n",
    "bil1 = int(input('Masukkan bilangan pertama : '))\n",
    "bil2 = int(input('Masukkan bilangan kedua : '))\n",
    "bil3 = int(input('Masukkan bilangan ketiga : '))\n",
    "\n",
    "if bil1 > bil2 :\n",
    "    bil1, bil2 = bil2, bil1\n",
    "if bil1 > bil3 :\n",
    "    bil1, bil3 = bil3, bil1\n",
    "if bil2 > bil3 :\n",
    "    bil2, bil3 = bil3, bil2\n",
    "print(f'Urutan bilangan dari terkecil ke terbesar adalah {bil1}, {bil2}, {bil3}')\n"
   ]
  },
  {
   "cell_type": "code",
   "execution_count": 3,
   "metadata": {},
   "outputs": [
    {
     "name": "stdout",
     "output_type": "stream",
     "text": [
      "------------------------------\n",
      "Nama karyawan : Rafli Pratama\n",
      "Golongan : D\n",
      "Jam kerja : 170 Jam\n",
      "Gaji karyawan sebesar : Rp.1575000\n"
     ]
    }
   ],
   "source": [
    "# Menentukan Gaji karyawan\n",
    "nama_karyawan = input('Masukkan nama karyawan: ')\n",
    "golongan = input('Masukkan Golongan karyawan: ').upper()\n",
    "\n",
    "while golongan not in [\"A\", \"B\", \"C\", \"D\"]:\n",
    "    print(\"Masukkan golongan yang benar!\")\n",
    "    golongan = input('Masukkan Golongan karyawan: ').upper()\n",
    "\n",
    "if golongan == \"A\":\n",
    "    upah = 5000\n",
    "elif golongan == \"B\":\n",
    "    upah = 6000\n",
    "elif golongan == \"C\":\n",
    "    upah = 7500\n",
    "elif golongan == \"D\":\n",
    "    upah = 9000\n",
    "\n",
    "jam_kerja = int(input('Masukkan jam kerja karyawan : '))\n",
    "if jam_kerja > 150 :\n",
    "    jam_lembur = jam_kerja - 150\n",
    "    upah_lembur = jam_lembur * 0.25 * upah\n",
    "    gaji = (jam_kerja * upah) + upah_lembur\n",
    "else :\n",
    "    gaji = jam_kerja * upah\n",
    "\n",
    "print('------------------------------')\n",
    "print(f'Nama karyawan : {nama_karyawan}')\n",
    "print(f'Golongan : {golongan}')\n",
    "print(f'Jam kerja : {jam_kerja} Jam')\n",
    "print(f'Gaji karyawan sebesar : Rp.{int(gaji)}')\n"
   ]
  }
 ],
 "metadata": {
  "kernelspec": {
   "display_name": "Python 3",
   "language": "python",
   "name": "python3"
  },
  "language_info": {
   "codemirror_mode": {
    "name": "ipython",
    "version": 3
   },
   "file_extension": ".py",
   "mimetype": "text/x-python",
   "name": "python",
   "nbconvert_exporter": "python",
   "pygments_lexer": "ipython3",
   "version": "3.12.3"
  },
  "orig_nbformat": 4
 },
 "nbformat": 4,
 "nbformat_minor": 2
}
