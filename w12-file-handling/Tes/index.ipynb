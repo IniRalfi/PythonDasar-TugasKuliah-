{
 "cells": [
  {
   "cell_type": "code",
   "execution_count": 41,
   "metadata": {},
   "outputs": [
    {
     "ename": "NameError",
     "evalue": "name 's' is not defined",
     "output_type": "error",
     "traceback": [
      "\u001b[1;31m---------------------------------------------------------------------------\u001b[0m",
      "\u001b[1;31mNameError\u001b[0m                                 Traceback (most recent call last)",
      "Cell \u001b[1;32mIn[41], line 1\u001b[0m\n\u001b[1;32m----> 1\u001b[0m a \u001b[38;5;241m=\u001b[39m \u001b[43ms\u001b[49m\n\u001b[0;32m      2\u001b[0m s \u001b[38;5;241m=\u001b[39m \u001b[38;5;241m4\u001b[39m\n\u001b[0;32m      3\u001b[0m c \u001b[38;5;241m=\u001b[39m a \u001b[38;5;241m+\u001b[39m s\n",
      "\u001b[1;31mNameError\u001b[0m: name 's' is not defined"
     ]
    }
   ],
   "source": [
    "a = s\n",
    "s = 4\n",
    "c = a + s\n",
    "KeyError(c)"
   ]
  },
  {
   "cell_type": "code",
   "execution_count": 2,
   "metadata": {},
   "outputs": [
    {
     "name": "stdout",
     "output_type": "stream",
     "text": [
      "['Tes', 'Hello World']\n"
     ]
    }
   ],
   "source": [
    "f = open('Tes/test2.txt')\n",
    "r = f.read().splitlines()\n",
    "data = []\n",
    "for i in r :\n",
    "    data.append(i)\n",
    "\n",
    "print(data)\n",
    "f.close()"
   ]
  },
  {
   "cell_type": "code",
   "execution_count": 58,
   "metadata": {},
   "outputs": [],
   "source": [
    "\n",
    "\n",
    "def tulisdata():\n",
    "    nama = input('Masukkan nama mahasiswa : ')\n",
    "    nim = input('Masukkan Nim mahasiswa : ')\n",
    "    matkul = input('Masukkan nama matkul')\n",
    "    nilai = int(input('Nilai mata kuliah tersebut : '))\n",
    "    data = f'Nama Mahasiswa : {nama}\\nNim : {nim}\\nmata kuliah : {matkul}\\nnilai : {nilai}\\n'\n",
    "    f = open(\"laporan/LPH12_RafliPratama.docx\", 'a')\n",
    "    f.write(data)\n",
    "    f.close()\n",
    "\n",
    "def bacaData():\n",
    "     f = open(\"laporan/LPH12_RafliPratama.docx\", 'r')\n",
    "     s = f.read()\n",
    "     print(s)\n",
    "     \n",
    "while True :\n",
    "     pilih = int(input('Anda ingin apa ? 1. Tambah Data 2. Baca data 3. Keluar'))\n",
    "     if pilih == 1:\n",
    "          tulisdata()\n",
    "     elif pilih ==2:\n",
    "          bacaData()\n",
    "     elif pilih == 3:\n",
    "          break\n",
    "     else:\n",
    "          print('Silahkan Pilih yang benar')\n"
   ]
  },
  {
   "cell_type": "code",
   "execution_count": null,
   "metadata": {},
   "outputs": [
    {
     "name": "stdout",
     "output_type": "stream",
     "text": [
      "Tes\n",
      "Hello World\n",
      "\n"
     ]
    }
   ],
   "source": []
  },
  {
   "cell_type": "code",
   "execution_count": null,
   "metadata": {},
   "outputs": [
    {
     "name": "stdout",
     "output_type": "stream",
     "text": [
      "Tes\n",
      "Hello World\n",
      "\n"
     ]
    }
   ],
   "source": [
    "f = open(\"Tes/test2.txt\", 'w')\n",
    "f.write('Tes\\n')\n",
    "f.write('Hello World\\n')\n",
    "f.close()\n",
    "\n",
    "f = open('Tes/test2.txt')\n",
    "r = f.read()\n",
    "print(r)\n",
    "f.close()"
   ]
  },
  {
   "cell_type": "code",
   "execution_count": null,
   "metadata": {},
   "outputs": [],
   "source": [
    "\n",
    "f = open('Tes/test2.txt')\n",
    "r = f.read()\n",
    "print(r)\n",
    "f.close()"
   ]
  },
  {
   "cell_type": "code",
   "execution_count": null,
   "metadata": {},
   "outputs": [],
   "source": []
  }
 ],
 "metadata": {
  "kernelspec": {
   "display_name": "Python 3",
   "language": "python",
   "name": "python3"
  },
  "language_info": {
   "codemirror_mode": {
    "name": "ipython",
    "version": 3
   },
   "file_extension": ".py",
   "mimetype": "text/x-python",
   "name": "python",
   "nbconvert_exporter": "python",
   "pygments_lexer": "ipython3",
   "version": "3.12.3"
  }
 },
 "nbformat": 4,
 "nbformat_minor": 2
}
