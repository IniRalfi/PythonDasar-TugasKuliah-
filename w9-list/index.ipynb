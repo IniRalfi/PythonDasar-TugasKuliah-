{
 "cells": [
  {
   "cell_type": "code",
   "execution_count": 1,
   "metadata": {},
   "outputs": [
    {
     "name": "stdout",
     "output_type": "stream",
     "text": [
      "['Jeruk', 'Mangga', 34, 56]\n",
      "[11, 22, 33, 44, 55]\n",
      "['a3', 'a2', True, False]\n"
     ]
    }
   ],
   "source": [
    "#Contoh sederhana pembuatan list pada pemograman python\n",
    "\n",
    "list1 = ['Jeruk', 'Mangga', 34, 56]\n",
    "list2 = [11,22,33,44,55]\n",
    "list3= ['a3', 'a2', True, False]\n",
    "\n",
    "print(list1)\n",
    "print(list2)\n",
    "print(list3)"
   ]
  },
  {
   "cell_type": "code",
   "execution_count": 2,
   "metadata": {},
   "outputs": [
    {
     "name": "stdout",
     "output_type": "stream",
     "text": [
      "[['saya', 1, False, True, 4.67], ['saya', 1, False, True, 4.67], ['saya', 1, False, True, 4.67], ['saya', 1, False, True, 4.67], ['saya', 1, False, True, 4.67]]\n"
     ]
    }
   ],
   "source": [
    "datalist=[\"saya\",1, False, True, 4.67]\n",
    "x=[datalist]*5\n",
    "print(x)"
   ]
  },
  {
   "cell_type": "code",
   "execution_count": 3,
   "metadata": {},
   "outputs": [
    {
     "name": "stdout",
     "output_type": "stream",
     "text": [
      "Kondisi Awal = ['saya', 1, False, False, 4.65]\n",
      "Kondisi Akhir = ['saya', 1, False, False, 4.65, 'Suka PY']\n"
     ]
    }
   ],
   "source": [
    "#menambahkan data --> append\n",
    "data = [\"saya\", 1, False, False, 4.65]\n",
    "print(f'Kondisi Awal = {data}')\n",
    "data.append('Suka PY')\n",
    "print(f'Kondisi Akhir = {data}')"
   ]
  },
  {
   "cell_type": "code",
   "execution_count": 4,
   "metadata": {},
   "outputs": [
    {
     "name": "stdout",
     "output_type": "stream",
     "text": [
      "list1[0] : Jeruk\n",
      "list2[1:3] : [22, 33]\n"
     ]
    }
   ],
   "source": [
    "#Cara mengakses nilai di dalam list Python\n",
    "list1 = [\"Jeruk\", 'mangga', 34, 54]\n",
    "list2 = [11,22,33,44,55]\n",
    "list3= ['a3', 'a2', True, False]\n",
    "\n",
    "print(f'list1[0] : {list1[0]}')\n",
    "print(f'list2[1:3] : {list2[1:3]}')"
   ]
  },
  {
   "cell_type": "code",
   "execution_count": 5,
   "metadata": {},
   "outputs": [
    {
     "name": "stdout",
     "output_type": "stream",
     "text": [
      "Kondisi Awal : ['Jeruk', 'Mangga', 43, 54]\n",
      "Kondisi Akhir : ['Jeruk', 'Mangga', 54]\n"
     ]
    }
   ],
   "source": [
    "#Contoh cara menghapus nilai pada list python\n",
    "#menggunakan del\n",
    "list = ['Jeruk', 'Mangga', 43, 54]\n",
    "\n",
    "print(f'Kondisi Awal : {list}')\n",
    "del list[2]\n",
    "print(f'Kondisi Akhir : {list}')"
   ]
  },
  {
   "cell_type": "code",
   "execution_count": 6,
   "metadata": {},
   "outputs": [
    {
     "name": "stdout",
     "output_type": "stream",
     "text": [
      "Kondisi Awal : ['Jeruk', 'Mangga', 43, 54]\n",
      "Kondisi Akhir : ['Jeruk', 43, 54]\n"
     ]
    }
   ],
   "source": [
    "#Contoh cara menghapus nilai pada list python\n",
    "#menggunakan pop()-> menghapus index yg sesuai\n",
    "list = ['Jeruk', 'Mangga', 43, 54]\n",
    "\n",
    "print(f'Kondisi Awal : {list}')\n",
    "list.pop(1)\n",
    "print(f'Kondisi Akhir : {list}')"
   ]
  },
  {
   "cell_type": "code",
   "execution_count": 7,
   "metadata": {},
   "outputs": [
    {
     "name": "stdout",
     "output_type": "stream",
     "text": [
      "Kondisi Awal : ['Jeruk', 'Mangga', 43, 54]\n",
      "Kondisi Akhir : ['Mangga', 43, 54]\n"
     ]
    }
   ],
   "source": [
    "#Contoh cara menghapus nilai pada list python\n",
    "#menggunakan remove() -> menghapus nilai yg sesuai\n",
    "list = ['Jeruk', 'Mangga', 43, 54]\n",
    "\n",
    "print(f'Kondisi Awal : {list}')\n",
    "list.remove('Jeruk')\n",
    "print(f'Kondisi Akhir : {list}')"
   ]
  },
  {
   "cell_type": "code",
   "execution_count": 10,
   "metadata": {},
   "outputs": [
    {
     "name": "stdout",
     "output_type": "stream",
     "text": [
      "[3, 6, 5, 1]\n",
      "Berikut adalah proses penghapusan data\n",
      "Data yang hilang : [6, 5, 1]\n",
      "Data yang hilang : [5, 1]\n",
      "Data yang hilang : [1]\n",
      "Data yang hilang : []\n",
      "Tidak ada data yang bisa di hapus lagi karena kosong\n"
     ]
    }
   ],
   "source": [
    "#perbedaan pop dan remove\n",
    "#pop\n",
    "\n",
    "data = []\n",
    "a = int(input(\"Masukkan jumlah data : \"))\n",
    "\n",
    "for i in range(a):\n",
    "    inp = int(input('Masukkan Data : '))\n",
    "    data.append(inp)\n",
    "\n",
    "print(data)\n",
    "\n",
    "print('Berikut adalah proses penghapusan data')\n",
    "for i in range (a):\n",
    "    data.pop(0)\n",
    "    print(f'Data yang hilang : {data}')\n",
    "    if data == []:\n",
    "        print('Tidak ada data yang bisa di hapus lagi karena kosong')"
   ]
  },
  {
   "cell_type": "code",
   "execution_count": 11,
   "metadata": {},
   "outputs": [
    {
     "name": "stdout",
     "output_type": "stream",
     "text": [
      "[5, 7, 9, 3]\n",
      "Berikut adalah proses penghapusan data\n",
      "Data yang hilang : [7, 9, 3]\n",
      "Data yang hilang : [9, 3]\n",
      "Data yang hilang : [3]\n",
      "Data yang hilang : []\n",
      "Tidak ada data yang bisa di hapus lagi karena kosong\n"
     ]
    }
   ],
   "source": [
    "#perbedaan pop dan remove\n",
    "#del\n",
    "\n",
    "data = []\n",
    "a = int(input(\"Masukkan jumlah data : \"))\n",
    "\n",
    "for i in range(a):\n",
    "    inp = int(input('Masukkan Data : '))\n",
    "    data.append(inp)\n",
    "\n",
    "print(data)\n",
    "\n",
    "print('Berikut adalah proses penghapusan data')\n",
    "for i in range (a):\n",
    "    del data[0]\n",
    "    print(f'Data yang hilang : {data}')\n",
    "    if data == []:\n",
    "        print('Tidak ada data yang bisa di hapus lagi karena kosong')"
   ]
  },
  {
   "cell_type": "code",
   "execution_count": 21,
   "metadata": {},
   "outputs": [
    {
     "name": "stdout",
     "output_type": "stream",
     "text": [
      "Tahu\n",
      "['Pizza', 'Spaghetti', 'Dimsum']\n"
     ]
    }
   ],
   "source": [
    "# List makanan dengan 2 dimensi\n",
    "list_makan = [\n",
    "[\"Siomay\", \"Bakso\", \"Mie Tiaw\"],\n",
    "[\"Pizza\", \"Spaghetti\", \"Dimsum\"],\n",
    "[\"Tempe\", \"Tahu\", \"Korket\"]\n",
    "]\n",
    "# Cara mengakses list multidimensi\n",
    "# misalkan kita ingin mengambil \"tahu\"\n",
    "print (list_makan[2][1])\n",
    "print(list_makan[1])"
   ]
  },
  {
   "cell_type": "code",
   "execution_count": 22,
   "metadata": {},
   "outputs": [
    {
     "name": "stdout",
     "output_type": "stream",
     "text": [
      "Siomay\n",
      "Bakso\n",
      "Mie Tiaw\n",
      "Pizza\n",
      "Spaghetti\n",
      "Dimsum\n",
      "Tempe\n",
      "Tahu\n",
      "Korket\n"
     ]
    }
   ],
   "source": [
    "# List makanan dengan 2 dimensi\n",
    "list_makan = [\n",
    "[\"Siomay\", \"Bakso\", \"Mie Tiaw\"],\n",
    "[\"Pizza\", \"Spaghetti\", \"Dimsum\"],\n",
    "[\"Tempe\", \"Tahu\", \"Korket\"]\n",
    "]\n",
    "# Cara menampilkan seluruh list multidimensi\n",
    "\n",
    "for i in list_makan:\n",
    "    for j in i:\n",
    "        print(j)"
   ]
  },
  {
   "cell_type": "code",
   "execution_count": 2,
   "metadata": {},
   "outputs": [
    {
     "name": "stdout",
     "output_type": "stream",
     "text": [
      "[1, 2, 3, 4, 5]\n",
      "[1, 2, 3, 4, 5, 6]\n"
     ]
    }
   ],
   "source": [
    "#append \n",
    "list = [1, 2, 3, 4, 5]\n",
    "print(list)\n",
    "list.append(6)\n",
    "print(list)"
   ]
  },
  {
   "cell_type": "code",
   "execution_count": 6,
   "metadata": {},
   "outputs": [
    {
     "name": "stdout",
     "output_type": "stream",
     "text": [
      "[1, 2, 3, 4, 6]\n",
      "[1, 2, 3, 4, 5, 6]\n"
     ]
    }
   ],
   "source": [
    "#insert\n",
    "\n",
    "list = [1,2,3,4,6]\n",
    "print(list)\n",
    "list.insert(4,5)\n",
    "print(list)\n"
   ]
  },
  {
   "cell_type": "code",
   "execution_count": 23,
   "metadata": {},
   "outputs": [
    {
     "name": "stdout",
     "output_type": "stream",
     "text": [
      "[1, 2, 3, 4, 5]\n",
      "[1, 2, 4]\n"
     ]
    }
   ],
   "source": [
    "# Operasi pop\n",
    "\n",
    "list = [1, 2, 3, 4, 5]\n",
    "print(list)\n",
    "list.pop(2)\n",
    "list.pop()\n",
    "print(list)"
   ]
  },
  {
   "cell_type": "code",
   "execution_count": 11,
   "metadata": {},
   "outputs": [
    {
     "name": "stdout",
     "output_type": "stream",
     "text": [
      "[2, 3, 4, 6, 4, 1]\n",
      "[1, 2, 3, 4, 4, 6]\n"
     ]
    }
   ],
   "source": [
    "# Operasi sort\n",
    "\n",
    "list = [2, 3, 4, 6, 4, 1]\n",
    "print(list)\n",
    "list.sort()\n",
    "print(list)"
   ]
  },
  {
   "cell_type": "code",
   "execution_count": 12,
   "metadata": {},
   "outputs": [
    {
     "name": "stdout",
     "output_type": "stream",
     "text": [
      "[1, 2, 3, 4, 5, True]\n",
      "[True, 5, 4, 3, 2, 1]\n"
     ]
    }
   ],
   "source": [
    "# Operasi reverse\n",
    "\n",
    "list = [1, 2, 3, 4, 5, True]\n",
    "print(list)\n",
    "list.reverse()\n",
    "print(list)"
   ]
  },
  {
   "cell_type": "code",
   "execution_count": 25,
   "metadata": {},
   "outputs": [
    {
     "name": "stdout",
     "output_type": "stream",
     "text": [
      "[1, 2, 3, 4]\n"
     ]
    },
    {
     "ename": "NameError",
     "evalue": "name 'list' is not defined",
     "output_type": "error",
     "traceback": [
      "\u001b[1;31m---------------------------------------------------------------------------\u001b[0m",
      "\u001b[1;31mNameError\u001b[0m                                 Traceback (most recent call last)",
      "Cell \u001b[1;32mIn[25], line 4\u001b[0m\n\u001b[0;32m      2\u001b[0m list1 \u001b[39m=\u001b[39m [\u001b[39m1\u001b[39m,\u001b[39m2\u001b[39m,\u001b[39m3\u001b[39m,\u001b[39m4\u001b[39m]\n\u001b[0;32m      3\u001b[0m \u001b[39mprint\u001b[39m(list1)\n\u001b[1;32m----> 4\u001b[0m \u001b[39mdel\u001b[39;00m \u001b[39mlist\u001b[39;49m\n\u001b[0;32m      5\u001b[0m \u001b[39mprint\u001b[39m(list1)\n",
      "\u001b[1;31mNameError\u001b[0m: name 'list' is not defined"
     ]
    }
   ],
   "source": [
    "#del \n",
    "list1 = [1,2,3,4]\n",
    "print(list1)\n",
    "del list\n",
    "print(list1)"
   ]
  },
  {
   "cell_type": "code",
   "execution_count": 36,
   "metadata": {},
   "outputs": [
    {
     "name": "stdout",
     "output_type": "stream",
     "text": [
      "[1, 2, 3, 4, 5]\n",
      "[1, 2, 3, 4, 5]\n"
     ]
    }
   ],
   "source": [
    "#Count\n",
    "\n",
    "list1 = [1, 2, 3, 4, 5]\n",
    "print(list1)\n",
    "list1.count(2)\n",
    "print(list1)"
   ]
  },
  {
   "cell_type": "code",
   "execution_count": 18,
   "metadata": {},
   "outputs": [
    {
     "name": "stdout",
     "output_type": "stream",
     "text": [
      "[1, 2, 3, 4, 5]\n",
      "[1, 2, 3, 4]\n"
     ]
    }
   ],
   "source": [
    "# Operasi remove\n",
    "\n",
    "list = [1, 2, 3, 4, 5]\n",
    "print(list)\n",
    "list.remove(5)\n",
    "print(list)\n"
   ]
  },
  {
   "cell_type": "code",
   "execution_count": 3,
   "metadata": {},
   "outputs": [
    {
     "name": "stdout",
     "output_type": "stream",
     "text": [
      "1 x 1 = 1\n",
      "2 x 2 = 4\n",
      "3 x 3 = 9\n",
      "4 x 4 = 16\n",
      "5 x 5 = 25\n",
      "6 x 6 = 36\n",
      "7 x 7 = 49\n",
      "8 x 8 = 64\n",
      "9 x 9 = 81\n",
      "10 x 10 = 100\n"
     ]
    }
   ],
   "source": [
    "data = []\n",
    "for i in range (1,11):\n",
    "    data.append(i)\n",
    "\n",
    "for j in data:\n",
    "    print(f'{j} x {j} = {j*j}')"
   ]
  },
  {
   "cell_type": "code",
   "execution_count": 9,
   "metadata": {},
   "outputs": [
    {
     "name": "stdout",
     "output_type": "stream",
     "text": [
      "[62, 100, 76, 70, 9, 27, 59, 19, 17, 93, 6, 59, 31, 9, 19, 23, 43, 13, 52, 26, 93, 97, 32, 85, 45, 100, 24, 22, 73, 37, 29, 68, 8, 83, 22, 86, 49, 10, 42, 87, 28, 75, 70, 70, 45, 30, 85, 25, 44, 44, 12, 22, 90, 36, 35, 49, 20, 9, 77, 33, 77, 52, 61, 100, 3, 32, 25, 96, 71, 79, 55, 41, 32, 27, 17, 53, 23, 34, 14, 65, 69, 100, 14, 75, 72, 67, 79, 80, 67, 25, 14, 81, 78, 8, 13, 12, 68, 38, 97, 93, 97, 11, 88, 98, 82, 68, 72, 9, 91, 33, 45, 23, 76, 73, 80, 12, 2, 29, 40, 11, 87, 93, 27, 4, 5, 89, 6, 70, 73, 16, 83, 47, 43, 58, 82, 15, 76, 55, 16, 76, 57, 89, 5, 72, 2, 74, 18, 65, 62, 86, 50, 28, 40, 1, 27, 37, 63, 88, 78, 77, 52, 4, 62, 30, 4, 45, 26, 69, 53, 43, 81, 4, 42, 8, 93, 4, 10, 67, 65, 1, 32, 58, 36, 87, 72, 34, 8, 11, 36, 60, 65, 5, 73, 34, 87, 97, 76, 100, 90, 9]\n",
      "Nilai terbesar adalah 100\n",
      "Jumlah mahasiswa yang mendapatkan nilai 100 adalah 5 Orang\n",
      "yaitu pada posisi index ke- [1, 25, 63, 81, 197]\n"
     ]
    }
   ],
   "source": [
    "import random\n",
    "\n",
    "data = []\n",
    "for i in range (200):\n",
    "    angka = random.randint(1,100)\n",
    "    data.append(angka)\n",
    "print(data)\n",
    "\n",
    "data_maks = data[0]\n",
    "jml_dataMaks = 0\n",
    "for j in data:\n",
    "    if j > data_maks:\n",
    "        data_maks = j\n",
    "        jml_dataMaks = 1\n",
    "    elif j == data_maks:\n",
    "        jml_dataMaks +=1\n",
    "print (f'Nilai terbesar adalah {data_maks}')\n",
    "print(f'Jumlah mahasiswa yang mendapatkan nilai {data_maks} adalah {jml_dataMaks} Orang')\n",
    "\n",
    "data_map = []\n",
    "for i in range(len(data)):\n",
    "    if data[i] == data_maks:\n",
    "        data_map.append(i)\n",
    "print(f'yaitu pada posisi index ke- {data_map}')\n",
    "\n"
   ]
  },
  {
   "cell_type": "code",
   "execution_count": 2,
   "metadata": {},
   "outputs": [
    {
     "name": "stdout",
     "output_type": "stream",
     "text": [
      "-----------------------------------------\n",
      "data mahasiswa ke- 1 \n",
      "['Rafli Pratama', 'PTSI', 90, 89, 95, 91.7, 'A']\n",
      "Nama mahasiswa \t: Rafli Pratama\n",
      "Nama mata kuliah \t:  PTSI\n",
      "Nilai Tugas mata kuliah PTSI \t: 90\n",
      "Nilai UTS mata kuliah PTSI \t: 89\n",
      "Nilai UAS mata kuliah PTSI \t: 95\n",
      "Nilai Akhir mata kuliah PTSI \t: 91.7\n",
      "Grade \t: A\n",
      "-----------------------------------------\n",
      "data mahasiswa ke- 2 \n",
      "['Atha', 'PTSI', 87, 90, 89, 88.69999999999999, 'A']\n",
      "Nama mahasiswa \t: Atha\n",
      "Nama mata kuliah \t:  PTSI\n",
      "Nilai Tugas mata kuliah PTSI \t: 87\n",
      "Nilai UTS mata kuliah PTSI \t: 90\n",
      "Nilai UAS mata kuliah PTSI \t: 89\n",
      "Nilai Akhir mata kuliah PTSI \t: 88.69999999999999\n",
      "Grade \t: A\n",
      "-----------------------------------------------------\n",
      "Terima Kasih\n"
     ]
    }
   ],
   "source": [
    "data_mahasiswa = []\n",
    "lagi = 'y'\n",
    "jumlah = 0\n",
    "while lagi == 'y' :\n",
    "    for i in range(len(data_mahasiswa)):\n",
    "        data_mahasiswa.pop(0)\n",
    "\n",
    "    nama_mahasiswa = input('Masukkan nama mahasiswa : ')\n",
    "    data_mahasiswa.append(nama_mahasiswa)\n",
    "\n",
    "    mata_kuliah = input('Masukkan nama matakuliah : ')\n",
    "    data_mahasiswa.append(mata_kuliah)\n",
    "\n",
    "    nilai_tugas = int(input('Masukkan nilai tugas mahasiswa : '))\n",
    "    data_mahasiswa.append(nilai_tugas)\n",
    "\n",
    "    nilai_uts = int(input('Masukkan nilai UTS Mahasiswa : '))\n",
    "    data_mahasiswa.append(nilai_uts)\n",
    "\n",
    "    nilai_uas = int(input('Masukkan nilai UAS Mahasiswa : '))\n",
    "    data_mahasiswa.append(nilai_uas)\n",
    "\n",
    "    nilai_akhir = (nilai_tugas * 0.3) + (nilai_uts * 0.3) + (nilai_uas * 0.4)\n",
    "    data_mahasiswa.append(nilai_akhir)\n",
    "\n",
    "    if nilai_akhir >= 80 :\n",
    "        grade = 'A'\n",
    "    elif nilai_akhir >= 70:\n",
    "        grade = 'B'\n",
    "    elif nilai_akhir>=60:\n",
    "        grade = 'C'\n",
    "    elif nilai_akhir >=50:\n",
    "        grade = 'D'\n",
    "    else : \n",
    "        grade = 'E'\n",
    "    data_mahasiswa.append(grade)\n",
    "\n",
    "    print('-----------------------------------------')\n",
    "    print(f'data mahasiswa ke- {jumlah+1} ')\n",
    "    print(data_mahasiswa)\n",
    "    print(f'Nama mahasiswa \\t: {data_mahasiswa[0]}')\n",
    "    print(f'Nama mata kuliah \\t:  {data_mahasiswa[1]}')\n",
    "    print(f'Nilai Tugas mata kuliah {mata_kuliah} \\t: {data_mahasiswa[2]}')\n",
    "    print(f'Nilai UTS mata kuliah {mata_kuliah} \\t: {data_mahasiswa[3]}')\n",
    "    print(f'Nilai UAS mata kuliah {mata_kuliah} \\t: {data_mahasiswa[4]}')\n",
    "    print(f'Nilai Akhir mata kuliah {mata_kuliah} \\t: {data_mahasiswa[5]}')\n",
    "    print(f'Grade \\t: {data_mahasiswa[6]}')\n",
    "    jumlah += 1\n",
    "    lagi = input('Apakah masih ingin menginput data mahasiswa? y/n')\n",
    "    if lagi != 'y' :\n",
    "        break\n",
    "print('-----------------------------------------------------')\n",
    "print('Terima Kasih')\n",
    "\n"
   ]
  },
  {
   "cell_type": "code",
   "execution_count": null,
   "metadata": {},
   "outputs": [],
   "source": []
  }
 ],
 "metadata": {
  "kernelspec": {
   "display_name": "Python 3",
   "language": "python",
   "name": "python3"
  },
  "language_info": {
   "codemirror_mode": {
    "name": "ipython",
    "version": 3
   },
   "file_extension": ".py",
   "mimetype": "text/x-python",
   "name": "python",
   "nbconvert_exporter": "python",
   "pygments_lexer": "ipython3",
   "version": "3.12.3"
  },
  "orig_nbformat": 4
 },
 "nbformat": 4,
 "nbformat_minor": 2
}
