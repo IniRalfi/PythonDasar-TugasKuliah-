{
 "cells": [
  {
   "cell_type": "code",
   "execution_count": 1,
   "metadata": {},
   "outputs": [
    {
     "name": "stdout",
     "output_type": "stream",
     "text": [
      "Rafli Pratama\n",
      "Universitas Tanjungpura\n"
     ]
    }
   ],
   "source": [
    "f = open('dataBase/data1.txt', 'w')\n",
    "f.write('Rafli Pratama\\n')\n",
    "f.write('Universitas Tanjungpura')\n",
    "f.close()\n",
    "\n",
    "f = open('dataBase/data1.txt', 'r')\n",
    "r = f.read()\n",
    "print(r)"
   ]
  },
  {
   "cell_type": "code",
   "execution_count": 2,
   "metadata": {},
   "outputs": [
    {
     "name": "stdout",
     "output_type": "stream",
     "text": [
      "Nama Mahasiswa : Rafli Pratama\n",
      "Umur : 18\n",
      "Asal daerah : Pontianak\n",
      "asal sekolah : SMAN 2 Pontianak\n",
      "\n",
      "Nama Mahasiswa : Rafli Tapi Beda Orang\n",
      "Umur : 18\n",
      "Asal daerah : Sanggau\n",
      "asal sekolah : SMAN 1 Sanggau\n",
      "\n"
     ]
    }
   ],
   "source": [
    "def tulisdata():\n",
    "    nama = input('Masukkan nama calon mahasiswa : ')\n",
    "    umur = int(input('Umur Calon Mahasiswa'))\n",
    "    asal = input('Asal daerah calon mahasiswa')\n",
    "    asalSekolah = input('Masukkan asal sekolah calon Mahasiswa : ')\n",
    "    data = f'Nama Mahasiswa : {nama}\\nUmur : {umur}\\nAsal daerah : {asal}\\nasal sekolah : {asalSekolah}\\n'\n",
    "    f = open(\"dataBase/data2.txt\", 'a')\n",
    "    f.write(data)\n",
    "    f.close()\n",
    "\n",
    "def bacaData():\n",
    "    f =  open(\"dataBase/data2.txt\", 'r')\n",
    "    s = f.read()\n",
    "    print(s)\n",
    "\n",
    "while True :\n",
    "    pilih = int(input('Anda ingin apa ? 1. Tambah Data 2. Baca data 3. Keluar'))\n",
    "    if pilih == 1:\n",
    "        tulisdata()\n",
    "    elif pilih ==2:\n",
    "        bacaData()\n",
    "    elif pilih == 3:\n",
    "        break\n",
    "    else:\n",
    "        print('Silahkan Pilih yang benar')"
   ]
  }
 ],
 "metadata": {
  "kernelspec": {
   "display_name": "Python 3",
   "language": "python",
   "name": "python3"
  },
  "language_info": {
   "codemirror_mode": {
    "name": "ipython",
    "version": 3
   },
   "file_extension": ".py",
   "mimetype": "text/x-python",
   "name": "python",
   "nbconvert_exporter": "python",
   "pygments_lexer": "ipython3",
   "version": "3.12.3"
  },
  "orig_nbformat": 4
 },
 "nbformat": 4,
 "nbformat_minor": 2
}
