{
 "cells": [
  {
   "cell_type": "code",
   "execution_count": 8,
   "metadata": {},
   "outputs": [
    {
     "data": {
      "text/plain": [
       "'ha?'"
      ]
     },
     "execution_count": 8,
     "metadata": {},
     "output_type": "execute_result"
    }
   ],
   "source": [
    "def tamfan(nama):\n",
    "    if nama == 'Audy':\n",
    "        return 'ha?'\n",
    "    print(f'{nama} Ganteng')\n",
    "\n",
    "tamfan('Audy')"
   ]
  },
  {
   "cell_type": "code",
   "execution_count": 2,
   "metadata": {},
   "outputs": [
    {
     "name": "stdout",
     "output_type": "stream",
     "text": [
      "Luas = (4 x 4) / 2\n",
      "= 8.00\n"
     ]
    }
   ],
   "source": [
    "def luasSegitiga(a, t):\n",
    "    L = (a * t) / 2\n",
    "    print('Luas = (%d x %d) / 2' % (a, t))\n",
    "    print('= %.2f' % L)\n",
    "\n",
    "def hitung():\n",
    "    alas = float(input('Alas = '))\n",
    "    tinggi = float(input('Tinggi = '))\n",
    "    luasSegitiga(alas, tinggi)\n",
    "\n",
    "hitung()\n"
   ]
  },
  {
   "cell_type": "code",
   "execution_count": 3,
   "metadata": {},
   "outputs": [
    {
     "name": "stdout",
     "output_type": "stream",
     "text": [
      "Luas = (4 x 4) / 2\n",
      "= 8.00\n"
     ]
    }
   ],
   "source": [
    "def hitung():\n",
    "    alas =int (input ('Alas = '))\n",
    "    tinggi =int( input ('Tinggi = '))\n",
    "    luasSegitiga (t=tinggi,a=alas)\n",
    "hitung()"
   ]
  },
  {
   "cell_type": "code",
   "execution_count": 6,
   "metadata": {},
   "outputs": [
    {
     "name": "stdout",
     "output_type": "stream",
     "text": [
      "nama:  Zahwa\n",
      "kelas: XII\n",
      "jurusan:  IPA\n",
      "Menggunakan keyword parameter:\n",
      "\n",
      "Tanpa menggunakan keyword parameter,\n",
      " urutan acak:\n",
      "nama:  XII\n",
      "kelas: IPA\n",
      "jurusan:  Zahwa\n",
      "Menggunakan keyword parameter:\n",
      "\n",
      "Tanpa menggunakan keyword parameter, urutan sesuai :\n",
      "nama:  Zahwa\n",
      "kelas: XII\n",
      "jurusan:  IPA\n",
      "Menggunakan keyword parameter:\n"
     ]
    }
   ],
   "source": [
    "def data_siswa (nama, kelas, jurusan):\n",
    "    print (\"nama: \", nama)\n",
    "    print( \"kelas:\", kelas)\n",
    "    print (\"jurusan: \", jurusan)\n",
    "    print (\"Menggunakan keyword parameter:\")\n",
    "data_siswa (kelas=\"XII\", jurusan=\"IPA\", nama=\"Zahwa\")\n",
    "print (f\"\\nTanpa menggunakan keyword parameter,\\n urutan acak:\")\n",
    "data_siswa (\"XII\", \"IPA\", \"Zahwa\")\n",
    "print(f\"\\nTanpa menggunakan keyword parameter, urutan sesuai :\" )\n",
    "data_siswa (\"Zahwa\", \"XII\", \"IPA\")"
   ]
  },
  {
   "cell_type": "code",
   "execution_count": 8,
   "metadata": {},
   "outputs": [
    {
     "name": "stdout",
     "output_type": "stream",
     "text": [
      "Nama:  Rafa\n",
      "Usia:  7\n",
      "Hobi:  ('Membaca', 'Futsal', 'Berenang')\n",
      "Lain-lain:  {'Jenis_kelamin': 'Laki-Laki', 'status': 'Belum Menikah'}\n"
     ]
    }
   ],
   "source": [
    "#lambang dikenali sebagai tuple\n",
    "#lambang ** dikenali sebagai dictionary\n",
    "def biodata (nama, usia, *hobi, **lain2):\n",
    "    print (\"Nama: \",nama)\n",
    "    print (\"Usia: \",usia)\n",
    "    print (\"Hobi: \",hobi)\n",
    "    print (\"Lain-lain: \", lain2 )\n",
    "biodata (\"Rafa\", \"7\", \"Membaca\", \"Futsal\", \"Berenang\", Jenis_kelamin=\"Laki-Laki\", status=\"Belum Menikah\")"
   ]
  },
  {
   "cell_type": "code",
   "execution_count": 12,
   "metadata": {},
   "outputs": [
    {
     "name": "stdout",
     "output_type": "stream",
     "text": [
      "Nilai sebelum fungsi : Poundra\n",
      "Nilai dalam fungsi : Rafli\n",
      "Nilai sesudah fungsi : Poundra\n",
      "\n",
      "Nilai sebelum fungsi : Poundra\n",
      "Nilai dalam fungsi adalah : Sidiq\n",
      "\n",
      "Nilai sesudah fungsi : Sidiq\n"
     ]
    }
   ],
   "source": [
    "def fungsiSatu():\n",
    "    x = 'Rafli'\n",
    "    print(f'Nilai dalam fungsi : {x}')\n",
    "def fungsiDua():\n",
    "    global x\n",
    "    x = 'Sidiq'\n",
    "    print(f'Nilai dalam fungsi adalah : {x}')\n",
    "\n",
    "x = 'Poundra'\n",
    "\n",
    "print(f'Nilai sebelum fungsi : {x}')\n",
    "fungsiSatu()\n",
    "print(f'Nilai sesudah fungsi : {x}')\n",
    "print()\n",
    "\n",
    "print(f'Nilai sebelum fungsi : {x}')\n",
    "fungsiDua()\n",
    "print(f'Nilai sesudah fungsi : {x}')"
   ]
  },
  {
   "cell_type": "code",
   "execution_count": 74,
   "metadata": {},
   "outputs": [
    {
     "data": {
      "text/plain": [
       "7"
      ]
     },
     "execution_count": 74,
     "metadata": {},
     "output_type": "execute_result"
    }
   ],
   "source": [
    "x = lambda a,b,c : (a+b)-(a-c)\n",
    "x(2,3,4)"
   ]
  },
  {
   "cell_type": "code",
   "execution_count": 17,
   "metadata": {},
   "outputs": [
    {
     "name": "stdout",
     "output_type": "stream",
     "text": [
      "Berikut adalah tampilan Deret Fibonacci sebanyak 5\n",
      "1 1 1 2 3 "
     ]
    }
   ],
   "source": [
    "def fibo(n):\n",
    "    if n <=2:\n",
    "        return 1\n",
    "    else:\n",
    "        return fibo(n-1)+fibo(n-2)\n",
    "\n",
    "n = int(input('Masukkan nilai : n'))\n",
    "print(f'Berikut adalah tampilan Deret Fibonacci sebanyak {n}')\n",
    "for i in range (n):\n",
    "    print(fibo(i), end=' ')"
   ]
  },
  {
   "cell_type": "code",
   "execution_count": 60,
   "metadata": {},
   "outputs": [
    {
     "name": "stdout",
     "output_type": "stream",
     "text": [
      "Anda memilih opsi 1. menghitung luas bangun ruang, Silahkan pilih bangun ruang yang anda inginkan\n",
      "Volume kubus dengan sisi 4cm adalah 64 cm3\n"
     ]
    }
   ],
   "source": [
    "def menu():\n",
    "    operasi = int(input('Silahkan pilih Operasi : \\n1. Mengitung Luas Bangun datar \\n2. Menghitung Volume Bangun ruang\\n'))\n",
    "    return operasi\n",
    "\n",
    "def luasBangunDatar():\n",
    "            \n",
    "    def persegi():\n",
    "        a = int(input('Masukkan sisi a: '))\n",
    "        b = int(input('Masukkan sisi b: '))\n",
    "        luas = a * b\n",
    "        print(f'Luas persegi dengan sisi {a} cm dan {b} cm adalah {luas} cm2')\n",
    "        return luas\n",
    "\n",
    "    def persegiPanjang():\n",
    "        a = int(input('Masukkan panjang: '))\n",
    "        b = int(input('Masukkan lebar: '))\n",
    "        luas = a * b\n",
    "        print(f'Luas persegi panjang dengan panjang {a} cm dan lebar {b} cm adalah {luas} cm2')\n",
    "        return luas    \n",
    "\n",
    "    def segitiga():\n",
    "        a = int(input('Masukkan sisi alas: '))\n",
    "        t = int(input('Masukkan tinggi: '))\n",
    "        luas = (a * t) / 2\n",
    "        print(f'Luas segitiga dengan alas {a} cm dan tinggi {t} cm adalah {luas} cm2')\n",
    "        return luas          \n",
    "            \n",
    "    bangunDatar = int(input('Silahkan pilih bangun datar:\\n1. Persegi\\n2. Persegi panjang\\n3. Segitiga'))\n",
    "\n",
    "    if bangunDatar == 1:\n",
    "                persegi()\n",
    "    elif bangunDatar == 2:\n",
    "                persegiPanjang()\n",
    "    elif bangunDatar == 3:\n",
    "                segitiga()\n",
    "    else:\n",
    "                print('Silahkan masukkan pilihan yang benar')\n",
    "\n",
    "\n",
    "def volumeBangunRuang():\n",
    "    bangunRuang = int(input('Silahkan pilih bangun datar:\\n1. Kubus\\n2. Balok'))\n",
    "    def kubus():\n",
    "        a = int(input('Masukkan sisi a: '))\n",
    "        volume = a * a * a\n",
    "        print(f'Volume kubus dengan sisi {a}cm adalah {volume} cm3')\n",
    "        return volume\n",
    "    def balok():\n",
    "        p = int(input('Masukkan panjang: '))\n",
    "        l = int(input('Masukkan lebar: '))\n",
    "        t = int(input('Masukkan tinggi : '))\n",
    "        volume = p*l*t\n",
    "        print(f'Volume balok dengan panjang{p} cm lebar {l}cm dan tinggi {t}cm adalah {volume}cm3')\n",
    "        return volume\n",
    "    \n",
    "    if bangunRuang == 1:\n",
    "        kubus()\n",
    "    elif bangunRuang == 2:\n",
    "        balok()\n",
    "    else:\n",
    "        print('Silahkan masukkan pilihan yang benar')\n",
    "        \n",
    "operasi = menu()\n",
    "if operasi == 1:\n",
    "    print('Anda memilih opsi 1. menghitung luas bangun datar, Silahkan pilih bangun datar yang anda inginkan')\n",
    "    luasBangunDatar()    \n",
    "elif operasi == 2:\n",
    "    print('Anda memilih opsi 1. menghitung luas bangun ruang, Silahkan pilih bangun ruang yang anda inginkan')\n",
    "    volumeBangunRuang()\n",
    "else:\n",
    "    print('Silahkan masukkan pilihan operasi yang tepat')\n"
   ]
  },
  {
   "cell_type": "code",
   "execution_count": 46,
   "metadata": {},
   "outputs": [
    {
     "name": "stdout",
     "output_type": "stream",
     "text": [
      "-------------------------------------------------------------------------\n",
      "|\tNama Karyawan\t|\tJumlah Anak\t|\tGaji Karyawan\t|\n",
      "-------------------------------------------------------------------------\n",
      "|\t  Rafli  \t|\t  0  \t\t|\t  3000000  \t|\n",
      "-------------------------------------------------------------------------\n",
      "|\t  Atha  \t|\t  3  \t\t|\t  3450000  \t|\n",
      "-------------------------------------------------------------------------\n",
      "|\t  Audy  \t|\t  5  \t\t|\t  3450000  \t|\n",
      "-------------------------------------------------------------------------\n"
     ]
    }
   ],
   "source": [
    "\n",
    "Nama_Karyawan = []\n",
    "Anak_Karyawan = []\n",
    "Gaji_Karyawan = []\n",
    "def dataKaryawan ():\n",
    "    namaKaryawan = input('Masukkan nama karyawan : ')\n",
    "    jumlahAnak = int(input('Masukkan Nama karyawan'))\n",
    "    return namaKaryawan, jumlahAnak\n",
    "def olahGaji():\n",
    "    if jumlahAnak == 0:\n",
    "        gaji = 3000000 + 0\n",
    "    elif jumlahAnak == 1:\n",
    "        gaji = 3000000 + 450000\n",
    "    elif  jumlahAnak <= 3:\n",
    "        gaji= 3000000 + 450000\n",
    "    elif  jumlahAnak > 3 :\n",
    "        gaji = 3000000 + 450000\n",
    "    else : \n",
    "        print('Data yang anda inputkan salah')\n",
    "    return gaji\n",
    "\n",
    "def listKaryawan ():\n",
    "    Nama_Karyawan.append(namaKaryawan)\n",
    "    Anak_Karyawan.append(jumlahAnak)\n",
    "    Gaji_Karyawan.append(gaji)\n",
    "\n",
    "def cetak():\n",
    "    print(f'|\\t  {Nama_Karyawan[i]}  \\t|\\t  {Anak_Karyawan[i]}  \\t\\t|\\t  {Gaji_Karyawan[i]}  \\t|')\n",
    "    print('-------------------------------------------------------------------------')\n",
    "    \n",
    "data = int(input('Masukkan jumlah karyawan : '))\n",
    "print('-------------------------------------------------------------------------')\n",
    "print(f'|\\tNama Karyawan\\t|\\tJumlah Anak\\t|\\tGaji Karyawan\\t|')\n",
    "print('-------------------------------------------------------------------------')\n",
    "for i in range (data): \n",
    "    namaKaryawan, jumlahAnak = dataKaryawan()\n",
    "    gaji = olahGaji()\n",
    "    listKaryawan()\n",
    "    cetak()\n",
    "\n",
    "    \n"
   ]
  },
  {
   "cell_type": "code",
   "execution_count": 58,
   "metadata": {},
   "outputs": [
    {
     "name": "stdout",
     "output_type": "stream",
     "text": [
      "---------------------------------------------------------------------------------------------------------\n",
      "|\tNama Karyawan\t|\tGolongan Karyawan\t|\tJam Kerja\t|\tGaji Karyawan\t|\n",
      "---------------------------------------------------------------------------------------------------------\n",
      "|\tRafli\t\t|\t\t4\t\t|\t40\t\t|\t200000.0\t|\n",
      "---------------------------------------------------------------------------------------------------------\n",
      "|\tAtha\t\t|\t\t3\t\t|\t35\t\t|\t140000.0\t|\n",
      "---------------------------------------------------------------------------------------------------------\n",
      "|\tAudy\t\t|\t\t2\t\t|\t45\t\t|\t166250.0\t|\n",
      "---------------------------------------------------------------------------------------------------------\n",
      "|\tArifqu\t\t|\t\t1\t\t|\t60\t\t|\t210000.0\t|\n",
      "---------------------------------------------------------------------------------------------------------\n"
     ]
    }
   ],
   "source": [
    "\n",
    "Nama_Karyawan = []\n",
    "Golongan_Karyawan = []\n",
    "Jam_Kerja_Karyawan = []\n",
    "Gaji_Karyawan = []\n",
    "\n",
    "def dataKaryawan():\n",
    "    namaKaryawan = input('Masukkan nama karyawan: ')\n",
    "    jamKerjaKaryawan = int(input('Masukkan Jam Kerja karyawan: '))\n",
    "    golongan = int(input('Masukkan Golongan karyawan (1-4): '))\n",
    "    return namaKaryawan, jamKerjaKaryawan, golongan\n",
    "\n",
    "def olahGaji(jamKerjaKaryawan, golongan):\n",
    "    if jamKerjaKaryawan > 40:\n",
    "        jamLembur = jamKerjaKaryawan - 40\n",
    "        jamKerjaKaryawan = 40\n",
    "    else:\n",
    "        jamLembur = 0\n",
    "\n",
    "    if golongan == 1:\n",
    "        gaji = jamKerjaKaryawan * 3000 + (3000 * 1.5 * jamLembur)\n",
    "    elif golongan == 2:\n",
    "        gaji = jamKerjaKaryawan * 3500 + (3500 * 1.5 * jamLembur)\n",
    "    elif golongan == 3:\n",
    "        gaji = jamKerjaKaryawan * 4000 + (4000 * 1.5 * jamLembur)\n",
    "    elif golongan == 4:\n",
    "        gaji = jamKerjaKaryawan * 5000 + (5000 * 1.5 * jamLembur)\n",
    "    else:\n",
    "        gaji = 0  # Default in case of invalid golongan\n",
    "\n",
    "    return gaji\n",
    "\n",
    "def listKaryawan(namaKaryawan, jamKerjaKaryawan, golongan, gaji):\n",
    "    Nama_Karyawan.append(namaKaryawan)\n",
    "    Jam_Kerja_Karyawan.append(jamKerjaKaryawan)\n",
    "    Golongan_Karyawan.append(golongan)\n",
    "    Gaji_Karyawan.append(gaji)\n",
    "\n",
    "def cetak(i):\n",
    "    print(f'|\\t{Nama_Karyawan[i]}\\t\\t|\\t\\t{Golongan_Karyawan[i]}\\t\\t|\\t{Jam_Kerja_Karyawan[i]}\\t\\t|\\t{Gaji_Karyawan[i]}\\t|')\n",
    "    print('---------------------------------------------------------------------------------------------------------')\n",
    "\n",
    "data = int(input('Masukkan jumlah karyawan: '))\n",
    "print('---------------------------------------------------------------------------------------------------------')\n",
    "print(f'|\\tNama Karyawan\\t|\\tGolongan Karyawan\\t|\\tJam Kerja\\t|\\tGaji Karyawan\\t|')\n",
    "print('---------------------------------------------------------------------------------------------------------')\n",
    "\n",
    "for i in range(data):\n",
    "    namaKaryawan, jamKerjaKaryawan, golongan = dataKaryawan()\n",
    "    gaji = olahGaji(jamKerjaKaryawan, golongan)\n",
    "    listKaryawan(namaKaryawan, jamKerjaKaryawan, golongan, gaji)\n",
    "    cetak(i)"
   ]
  },
  {
   "cell_type": "code",
   "execution_count": 16,
   "metadata": {},
   "outputs": [
    {
     "name": "stdout",
     "output_type": "stream",
     "text": [
      "Tebak Angka!!!\n",
      "Silahkan Tebak angka yang benar antara 5 dan 25\n",
      "----------Tebakan ke -1----------\n",
      "Tebakan Anda adalah angka 4\n",
      "Tebakan anda salah, selisihnya adalah 15\n",
      "----------Tebakan ke -2----------\n",
      "Tebakan Anda adalah angka 19\n",
      "Tebakan anda benar yaitu angka 19\n"
     ]
    }
   ],
   "source": [
    "import random \n",
    "\n",
    "def acak():\n",
    "    a = int(input('Masukkan batas angka awal : '))\n",
    "    b = int(input('Masukkan batas angka akhir : '))\n",
    "    print('Tebak Angka!!!')\n",
    "    print(f'Silahkan Tebak angka yang benar antara {a} dan {b}')\n",
    "    bilanganAcak = random.randint(a,b)\n",
    "    return bilanganAcak\n",
    "\n",
    "def tebakAngka ():\n",
    "    tebakan = 1\n",
    "    while True:\n",
    "        print(f'----------Tebakan ke -{tebakan}----------')      \n",
    "        angka = int(input('Masukkan Angka'))\n",
    "        print(f'Tebakan Anda adalah angka {angka}')\n",
    "        if angka == bilanganAcak:\n",
    "            print(f'Tebakan anda benar yaitu angka {bilanganAcak}')\n",
    "            tebakan = 1\n",
    "            break\n",
    "        elif angka < bilanganAcak : \n",
    "            print(f'Tebakan anda salah, selisihnya adalah {bilanganAcak - angka}')\n",
    "            tebakan +=1\n",
    "        elif angka > bilanganAcak:\n",
    "            print(f'Tebakan anda salah, selisihnya adalah {angka - bilanganAcak}')\n",
    "            tebakan +=1\n",
    "        \n",
    "bilanganAcak = acak()\n",
    "tebakAngka()\n"
   ]
  },
  {
   "cell_type": "code",
   "execution_count": 2,
   "metadata": {},
   "outputs": [
    {
     "name": "stdout",
     "output_type": "stream",
     "text": [
      "Ini adalah Fungsi\n"
     ]
    }
   ],
   "source": [
    "def NamaFungsi(): \n",
    "    print (\"Ini adalah Fungsi\")\n",
    "NamaFungsi()"
   ]
  },
  {
   "cell_type": "code",
   "execution_count": 3,
   "metadata": {},
   "outputs": [
    {
     "name": "stdout",
     "output_type": "stream",
     "text": [
      "Selamat belajar fungsi pada python\n",
      "Selamat belajar fungsi pada python\n",
      "Selamat belajar fungsi pada python\n",
      "Selamat belajar fungsi pada python\n"
     ]
    }
   ],
   "source": [
    "def selamat():\n",
    "    print (\"Selamat belajar fungsi pada python\")\n",
    "selamat()\n",
    "selamat()\n",
    "selamat()\n",
    "selamat()"
   ]
  },
  {
   "cell_type": "code",
   "execution_count": 6,
   "metadata": {},
   "outputs": [
    {
     "name": "stdout",
     "output_type": "stream",
     "text": [
      "1\n"
     ]
    }
   ],
   "source": [
    "def fungsi (parameter):\n",
    "    print(parameter)\n",
    "fungsi(1)"
   ]
  },
  {
   "cell_type": "code",
   "execution_count": 8,
   "metadata": {},
   "outputs": [
    {
     "name": "stdout",
     "output_type": "stream",
     "text": [
      "Penggunaan parameter pada python\n"
     ]
    }
   ],
   "source": [
    "def selamat (kata): \n",
    "    print (kata)\n",
    "selamat(\"Penggunaan parameter pada python\")"
   ]
  },
  {
   "cell_type": "code",
   "execution_count": 12,
   "metadata": {},
   "outputs": [
    {
     "name": "stdout",
     "output_type": "stream",
     "text": [
      "\n"
     ]
    }
   ],
   "source": [
    "def fungsi():\n",
    "    print()\n",
    "fungsi()"
   ]
  },
  {
   "cell_type": "code",
   "execution_count": 13,
   "metadata": {},
   "outputs": [
    {
     "name": "stdout",
     "output_type": "stream",
     "text": [
      "NIM saya adalah H111202002\n",
      "Nama saya adalah Budi\n",
      "Berasal dari PS Sisfo FMIPA\n"
     ]
    }
   ],
   "source": [
    "# Fungsi tanpa parameter dan nilai\n",
    "def dataMhs():\n",
    "    print ('NIM saya adalah H111202002')\n",
    "    print ('Nama saya adalah Budi')\n",
    "    print ('Berasal dari PS Sisfo FMIPA')\n",
    "dataMhs()   "
   ]
  },
  {
   "cell_type": "code",
   "execution_count": 14,
   "metadata": {},
   "outputs": [
    {
     "name": "stdout",
     "output_type": "stream",
     "text": [
      "PROGRAM MENENTUKAN BILANGAN GANJIL GENAP\n",
      "Angka 4 yang Anda Masukkan adalah GENAP\n",
      "Angka 3 yang Anda Masukkan adalah GANJIL\n",
      "Angka 2 yang Anda Masukkan adalah GENAP\n",
      "Angka 1 yang Anda Masukkan adalah GANJIL\n"
     ]
    }
   ],
   "source": [
    "def cek():\n",
    "    q = int(input ('Masukkan angka :'))\n",
    "    if q%2 == 0: print ('Angka', q, 'yang Anda Masukkan adalah GENAP')\n",
    "    else: print ('Angka', q, 'yang Anda Masukkan adalah GANJIL')\n",
    "def jilnap():\n",
    "    for i in range (4):\n",
    "        cek()\n",
    "print(\"PROGRAM MENENTUKAN BILANGAN GANJIL GENAP\")\n",
    "jilnap()"
   ]
  },
  {
   "cell_type": "code",
   "execution_count": 15,
   "metadata": {},
   "outputs": [
    {
     "name": "stdout",
     "output_type": "stream",
     "text": [
      "PROGRAM MENENTUKAN BILANGAN GANJIL GENAP\n",
      "Angka 1 yang Anda Masukkan adalah GANJIL\n",
      "Angka 2 yang Anda Masukkan adalah GENAP\n",
      "Angka 3 yang Anda Masukkan adalah GANJIL\n",
      "Angka 4 yang Anda Masukkan adalah GENAP\n"
     ]
    }
   ],
   "source": [
    "def cek(qw):\n",
    "    if qw%2 == 0:\n",
    "        print ('Angka', qw, 'yang Anda Masukkan adalah GENAP')\n",
    "    else:\n",
    "        print ('Angka', qw, 'yang Anda Masukkan adalah GANJIL')\n",
    "def ulang():\n",
    "    for i in range(4):\n",
    "        d = int(input ('Masukkan angka :'))\n",
    "        cek(d)\n",
    "print(\"PROGRAM MENENTUKAN BILANGAN GANJIL GENAP\")\n",
    "ulang()"
   ]
  },
  {
   "cell_type": "code",
   "execution_count": 16,
   "metadata": {},
   "outputs": [
    {
     "name": "stdout",
     "output_type": "stream",
     "text": [
      "PROGRAM MENCARI LUAS DAN KELILING SEGITIGA SAMA SISI \n",
      "maka luas segitiginya adalah 12.0 m2\n",
      "maka keliling segitiga adalah  12.0 m2\n"
     ]
    }
   ],
   "source": [
    "def luassegitiga (a,t): \n",
    "    luas=a*t/2 \n",
    "    print(\"maka luas segitiginya adalah\", luas, \"m2\")\n",
    "def keliling(a): \n",
    "    j=3*a \n",
    "    print(\"maka keliling segitiga adalah \", j, \"m2\")\n",
    "    \n",
    "print(\"PROGRAM MENCARI LUAS DAN KELILING SEGITIGA SAMA SISI \")\n",
    "a1=float(input(\"input sisi alasnya: \"))\n",
    "t1=float(input(\"input tingginya : \"))\n",
    "luassegitiga (a1,t1)\n",
    "keliling(a1)"
   ]
  },
  {
   "cell_type": "code",
   "execution_count": 17,
   "metadata": {},
   "outputs": [
    {
     "name": "stdout",
     "output_type": "stream",
     "text": [
      "Suhu di daerah pontianak adalah 28 celcius\n",
      "Suhu di daerah pontianak adalah 18 kelvin\n"
     ]
    }
   ],
   "source": [
    "def kota (daerah, derajat, satuan = 'celcius'):\n",
    "    print(f\"Suhu di daerah {daerah} adalah {derajat} {satuan}\")\n",
    "kota (\"pontianak\", 28)\n",
    "kota (\"pontianak\", 18, \"kelvin\")"
   ]
  },
  {
   "cell_type": "code",
   "execution_count": 18,
   "metadata": {},
   "outputs": [
    {
     "name": "stdout",
     "output_type": "stream",
     "text": [
      "Nilai sebelum fungsi : Moci\n",
      "Nilai dalam fungsi : Moci\n",
      "Nilai sesudah fungsi : Moci\n",
      "\n",
      "\n",
      "Nilai sebelum fungsi : Moci\n"
     ]
    }
   ],
   "source": [
    "def fungsiSatu ():\n",
    "    X = \"Junaedi\"\n",
    "    print (\"Nilai dalam fungsi :\",x)\n",
    "def fungsiDua () :\n",
    "    global x\n",
    "    X = \"Iskandar\"\n",
    "    print (\"Nilai dalam fungsi :\",x)\n",
    "    \n",
    "x = \"Moci\"\n",
    "print (\"Nilai sebelum fungsi :\",x)\n",
    "fungsiSatu ()\n",
    "print (\"Nilai sesudah fungsi :\",x)\n",
    "print ('\\n')\n",
    "print (\"Nilai sebelum fungsi :\",x)"
   ]
  },
  {
   "cell_type": "code",
   "execution_count": 20,
   "metadata": {},
   "outputs": [
    {
     "name": "stdout",
     "output_type": "stream",
     "text": [
      "Menghitung Luas Segitiga\n",
      "Luas segitiga adalah =  12.0\n"
     ]
    }
   ],
   "source": [
    "def luassegitiga ():\n",
    "    a = int(input ('Masukkan alas: '))\n",
    "    t = int(input ('Masukkan tinggi: '))\n",
    "    L =a*t/2\n",
    "    return (L)\n",
    "def utama():\n",
    "    luas = luassegitiga() \n",
    "    print ('Luas segitiga adalah = ',luas)\n",
    "print (\"Menghitung Luas Segitiga\")\n",
    "utama()"
   ]
  },
  {
   "cell_type": "code",
   "execution_count": 22,
   "metadata": {},
   "outputs": [
    {
     "name": "stdout",
     "output_type": "stream",
     "text": [
      "\n"
     ]
    }
   ],
   "source": [
    "def Fungsi():\n",
    "    return \"Hello World\"  \n",
    "fungsi()  "
   ]
  },
  {
   "cell_type": "code",
   "execution_count": 26,
   "metadata": {},
   "outputs": [
    {
     "data": {
      "text/plain": [
       "<function __main__.<lambda>()>"
      ]
     },
     "execution_count": 26,
     "metadata": {},
     "output_type": "execute_result"
    }
   ],
   "source": [
    "lambda: \"Hello World\""
   ]
  },
  {
   "cell_type": "code",
   "execution_count": 27,
   "metadata": {},
   "outputs": [
    {
     "data": {
      "text/plain": [
       "10"
      ]
     },
     "execution_count": 27,
     "metadata": {},
     "output_type": "execute_result"
    }
   ],
   "source": [
    "x = lambda a,b,c: (a+b)-(b-c)\n",
    "x(8,6,2)"
   ]
  },
  {
   "cell_type": "code",
   "execution_count": 31,
   "metadata": {},
   "outputs": [
    {
     "name": "stdout",
     "output_type": "stream",
     "text": [
      "40\n",
      "60\n"
     ]
    }
   ],
   "source": [
    "#fungsi def \n",
    "def f(x):\n",
    "    return x*4 \n",
    "print (f(10))\n",
    "#fungsi lambda \n",
    "g = lambda x: x*4 \n",
    "print (g(15))"
   ]
  },
  {
   "cell_type": "code",
   "execution_count": 32,
   "metadata": {},
   "outputs": [
    {
     "name": "stdout",
     "output_type": "stream",
     "text": [
      "nilai w adalah <function <lambda> at 0x0000021BB6CDF2E0>\n"
     ]
    }
   ],
   "source": [
    "w= lambda q,r: q*r/2\n",
    "q=int(input(\"alas\"))\n",
    "\n",
    "r=int(input(\"tinggi\"))\n",
    "w(q,r)\n",
    "\n",
    "print(\"nilai w adalah\", w)"
   ]
  },
  {
   "cell_type": "code",
   "execution_count": 34,
   "metadata": {},
   "outputs": [
    {
     "name": "stdout",
     "output_type": "stream",
     "text": [
      "Berikut adalah tampilan Deret Fibonacci sebanyak 5\n",
      "1 1 1 2 3 "
     ]
    }
   ],
   "source": [
    "# fungsi rekursif pada deret fibonacci\n",
    "def fibo (n): \n",
    "    if n<=2: \n",
    "        return 1 \n",
    "    else:\n",
    "        return (fibo(n-1)+fibo(n-2))\n",
    "n = int(input ('Masukkan nilai n: '))\n",
    "print (\"Berikut adalah tampilan Deret Fibonacci sebanyak\", n) \n",
    "for i in range (n): \n",
    "    print (fibo (i), end=\" \")"
   ]
  },
  {
   "cell_type": "code",
   "execution_count": 35,
   "metadata": {},
   "outputs": [
    {
     "name": "stdout",
     "output_type": "stream",
     "text": [
      "2  pangkat 2 adalah 4\n"
     ]
    }
   ],
   "source": [
    "def pangkat(a,b):\n",
    "    if b == 0:\n",
    "        return 1\n",
    "    else:\n",
    "        return a * pangkat (a,b-1)\n",
    "a = int(input(\"Masukan Angka: \"))\n",
    "b = int(input(\"Masukan pangkanya: \"))\n",
    "print(a,\" pangkat\", b, \"adalah\" ,pangkat (a,b))"
   ]
  }
 ],
 "metadata": {
  "kernelspec": {
   "display_name": "Python 3",
   "language": "python",
   "name": "python3"
  },
  "language_info": {
   "codemirror_mode": {
    "name": "ipython",
    "version": 3
   },
   "file_extension": ".py",
   "mimetype": "text/x-python",
   "name": "python",
   "nbconvert_exporter": "python",
   "pygments_lexer": "ipython3",
   "version": "3.12.3"
  },
  "orig_nbformat": 4
 },
 "nbformat": 4,
 "nbformat_minor": 2
}
