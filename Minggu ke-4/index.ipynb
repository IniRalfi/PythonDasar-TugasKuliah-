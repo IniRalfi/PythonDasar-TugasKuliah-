{
 "cells": [
  {
   "cell_type": "code",
   "execution_count": null,
   "metadata": {},
   "outputs": [],
   "source": [
    "#Menerima 15 input \n",
    "total_bil = 0\n",
    "for i in range (15):\n",
    "    bil = int(input('Masukkan bilangan : '))\n",
    "    print(f'Operasikan {total_bil} + {bil}')\n",
    "    total_bil += bil\n",
    "    print(f'Iterasi ke- {i+1}')\n",
    "    print(f'Total saat ini : {total_bil}')\n",
    "    print('---------------------------------')\n",
    "print(f'Total seluruh bilangan adalah : {total_bil}')"
   ]
  },
  {
   "cell_type": "code",
   "execution_count": null,
   "metadata": {},
   "outputs": [],
   "source": [
    "total = 0\n",
    "jml_bil = 0\n",
    "while True: \n",
    "    bil = int(input('Masukkan Bilangan'))\n",
    "    if (bil== -100) :\n",
    "        break\n",
    "    print(f'Operasikan {total} + {bil}')\n",
    "    jml_bil +=1\n",
    "    total += bil\n",
    "    mean = total / jml_bil\n",
    "\n",
    "    print(f'Jumlah saat ini = {total}')\n",
    "    print(f'Jumlah bilangan saat ini = {jml_bil}')\n",
    "    print('------------------------------------------')\n",
    "print(f'Jumlah bilangan = {total}')\n",
    "print(f'Rata-rata bilangan = {mean}')"
   ]
  },
  {
   "cell_type": "code",
   "execution_count": 10,
   "metadata": {},
   "outputs": [
    {
     "name": "stdout",
     "output_type": "stream",
     "text": [
      "Total bilangan kelipatan 5 antara 1 sd 26 = 75\n"
     ]
    }
   ],
   "source": [
    "akhir = int(input('Masukkan batas akhir angka : '))\n",
    "total = 0\n",
    "for i in range(akhir+1) :\n",
    "    if i % 5 == 0 :\n",
    "        total += i\n",
    "    \n",
    "print(f'Total bilangan kelipatan 5 antara 1 sd {akhir} = {total}')"
   ]
  },
  {
   "cell_type": "code",
   "execution_count": null,
   "metadata": {},
   "outputs": [],
   "source": [
    "lulus = 0\n",
    "tdk_lulus = 0\n",
    "jumlah_mhs = int(input('Masukkan jumlah mahasiswa : '))\n",
    "print(f'Jumlah mahasiswa = {jumlah_mhs}')\n",
    "\n",
    "for i in range(jumlah_mhs) :\n",
    "    nilai =input('Masukkan nilai mahasiswa : ').upper()\n",
    "    print(f'Nilai mahasiswa ke-{i+1} adalah : {nilai}')\n",
    "    if nilai == 'A' or nilai == 'B' or nilai == 'C':\n",
    "        lulus += 1\n",
    "    elif nilai == 'D' or nilai=='E':\n",
    "        tdk_lulus += 1\n",
    "    else:\n",
    "        print(f'Nilai yang anda inputkan pada mahasiswa ke-{i+1} Salah!!!')\n",
    "        \n",
    "print(f'Jumlah mahasiswa lulus = {lulus}')\n",
    "print(f'Jumlah mahasiswa tidak lulus = {tdk_lulus}')\n"
   ]
  },
  {
   "cell_type": "code",
   "execution_count": 13,
   "metadata": {},
   "outputs": [
    {
     "name": "stdout",
     "output_type": "stream",
     "text": [
      "Jumlah bilangan Genap = 4\n",
      "Jumlah bilangan Ganjil = 3\n"
     ]
    }
   ],
   "source": [
    "genap = 0\n",
    "ganjil = 0\n",
    "while True:\n",
    "    bil = int(input('Masukkan bilangan bulat'))\n",
    "\n",
    "    if bil < 0:\n",
    "        break \n",
    "    else :\n",
    "        if bil%2 == 0:\n",
    "            genap += 1\n",
    "        else:\n",
    "            ganjil += 1\n",
    "\n",
    "print(f'Jumlah bilangan Genap = {genap}')\n",
    "print(f'Jumlah bilangan Ganjil = {ganjil}')"
   ]
  },
  {
   "cell_type": "code",
   "execution_count": null,
   "metadata": {},
   "outputs": [],
   "source": [
    "\n",
    "while True:\n",
    "    operasi =int(input('Pilih Operasi Aritmatika : 1. Penjumlahan \\n2. Pengurangan \\n3. Perkalian \\n4. Pembagian \\n5. Keluar'))\n",
    "    if operasi == 1:\n",
    "        \n",
    "        print('Anda memilih operasi penjumlahan')\n",
    "        a = int(input('Masukan angka pertama : '))\n",
    "        b = int(input('Masukan angka kedua : '))\n",
    "        total = a+b\n",
    "        print(f'Hasil operasi penjumlahan {a} + {b} = {total}')\n",
    "        print('----------------------------------------------')\n",
    "    elif operasi == 2 :\n",
    "        print('Anda memilih operasi pengurangan')\n",
    "        a = int(input('Masukan angka pertama : '))\n",
    "        b = int(input('Masukan angka kedua : '))\n",
    "        total = a-b\n",
    "        print(f'Hasil operasi pengurangan {a} - {b} = {total}')\n",
    "        print('----------------------------------------------')\n",
    "    elif operasi == 3 :\n",
    "        print('Anda memilih operasi perkalian')\n",
    "        a = int(input('Masukan angka pertama : '))\n",
    "        b = int(input('Masukan angka kedua : '))\n",
    "        total = a*b\n",
    "        print(f'Hasil operasi perkalian {a} x {b} = {total}')\n",
    "        print('----------------------------------------------')\n",
    "    elif operasi == 4:\n",
    "        print('Anda memilih operasi perkalian')\n",
    "        a = int(input('Masukan angka pertama : '))\n",
    "        b = int(input('Masukan angka kedua : '))\n",
    "        total = a/b\n",
    "        print(f'Hasil operasi perkalian {a} : {b} = {total}')\n",
    "        print('----------------------------------------------')\n",
    "    elif operasi == 5:\n",
    "        print('Anda memilih keluar! \\nTerima kasih')\n",
    "        print('----------------------------------------------')\n",
    "        break\n",
    "    else:\n",
    "        print('Anda memilih pilihan yang salah! \\nSilahkan pilih operasi kembali')\n",
    "        print('----------------------------------------------')"
   ]
  },
  {
   "cell_type": "code",
   "execution_count": 3,
   "metadata": {},
   "outputs": [
    {
     "name": "stdout",
     "output_type": "stream",
     "text": [
      "Operasikan 0 + 12\n",
      "Total pada iterasi ke-1 adalah = 12\n",
      "----------------------------------------------\n",
      "Operasikan 12 + 12\n",
      "Total pada iterasi ke-2 adalah = 24\n",
      "----------------------------------------------\n",
      "Operasikan 24 + 12\n",
      "Total pada iterasi ke-3 adalah = 36\n",
      "----------------------------------------------\n",
      "Operasikan 36 + 12\n",
      "Total pada iterasi ke-4 adalah = 48\n",
      "----------------------------------------------\n",
      "Operasikan 48 + 12\n",
      "Total pada iterasi ke-5 adalah = 60\n",
      "----------------------------------------------\n",
      "Total keseluruh adalah : 60 \n",
      "Dengan rata-ratanya adalah 12\n"
     ]
    }
   ],
   "source": [
    "n = int(input('Masukkan jumlah bilangan : '))\n",
    "total = 0\n",
    "for i in range(n):\n",
    "    bil = int(input('Masukkan bilangan : '))\n",
    "    print(f'Operasikan {total} + {bil}')\n",
    "    total += bil\n",
    "    print(f'Total pada iterasi ke-{i+1} adalah = {total}')\n",
    "    print('----------------------------------------------')\n",
    "mean = int(total / (i+1))\n",
    "print(f'Total keseluruh adalah : {total} \\nDengan rata-ratanya adalah {mean}')\n"
   ]
  },
  {
   "cell_type": "code",
   "execution_count": 43,
   "metadata": {},
   "outputs": [
    {
     "name": "stdout",
     "output_type": "stream",
     "text": [
      "Faktorial dari 4 adalah 24\n"
     ]
    }
   ],
   "source": [
    "\n",
    "n = int(input('Masukkan bilangan faktorial : '))\n",
    "if n == 0 or n == 1:\n",
    "    faktorial = 1\n",
    "else:\n",
    "    faktorial = 1\n",
    "    for i in range(n, 1, -1):\n",
    "        faktorial *= i\n",
    "\n",
    "print(f'Faktorial dari {n} adalah {faktorial}')"
   ]
  },
  {
   "cell_type": "code",
   "execution_count": 6,
   "metadata": {},
   "outputs": [
    {
     "name": "stdout",
     "output_type": "stream",
     "text": [
      "Anak ayam tinggal 30 mati satu sisa 29\n",
      "Anak ayam tinggal 29 mati satu sisa 28\n",
      "Anak ayam tinggal 28 mati satu sisa 27\n",
      "Anak ayam tinggal 27 mati satu sisa 26\n",
      "Anak ayam tinggal 26 mati satu sisa 25\n",
      "Anak ayam tinggal 25 mati satu sisa 24\n",
      "Anak ayam tinggal 24 mati satu sisa 23\n",
      "Anak ayam tinggal 23 mati satu sisa 22\n",
      "Anak ayam tinggal 22 mati satu sisa 21\n",
      "Anak ayam tinggal 21 mati satu sisa 20\n",
      "Anak ayam tinggal 20 mati satu sisa 19\n",
      "Anak ayam tinggal 19 mati satu sisa 18\n",
      "Anak ayam tinggal 18 mati satu sisa 17\n",
      "Anak ayam tinggal 17 mati satu sisa 16\n",
      "Anak ayam tinggal 16 mati satu sisa 15\n",
      "Anak ayam tinggal 15 mati satu sisa 14\n",
      "Anak ayam tinggal 14 mati satu sisa 13\n",
      "Anak ayam tinggal 13 mati satu sisa 12\n",
      "Anak ayam tinggal 12 mati satu sisa 11\n",
      "Anak ayam tinggal 11 mati satu sisa 10\n",
      "Anak ayam tinggal 10 mati satu sisa 9\n",
      "Anak ayam tinggal 9 mati satu sisa 8\n",
      "Anak ayam tinggal 8 mati satu sisa 7\n",
      "Anak ayam tinggal 7 mati satu sisa 6\n",
      "Anak ayam tinggal 6 mati satu sisa 5\n",
      "Anak ayam tinggal 5 mati satu sisa 4\n",
      "Anak ayam tinggal 4 mati satu sisa 3\n",
      "Anak ayam tinggal 3 mati satu sisa 2\n",
      "Anak ayam tinggal 2 mati satu sisa 1\n",
      "Anak ayam tinggal 1 mati satu tinggal induknya\n"
     ]
    }
   ],
   "source": [
    "for i in range (30, 0, -1):\n",
    "    \n",
    "    if i == 1 :\n",
    "        print(f'Anak ayam tinggal {i} mati satu tinggal induknya')\n",
    "    else:\n",
    "        print(f'Anak ayam tinggal {i} mati satu sisa {i-1}')"
   ]
  }
 ],
 "metadata": {
  "kernelspec": {
   "display_name": "Python 3",
   "language": "python",
   "name": "python3"
  },
  "language_info": {
   "codemirror_mode": {
    "name": "ipython",
    "version": 3
   },
   "file_extension": ".py",
   "mimetype": "text/x-python",
   "name": "python",
   "nbconvert_exporter": "python",
   "pygments_lexer": "ipython3",
   "version": "3.12.3"
  },
  "orig_nbformat": 4
 },
 "nbformat": 4,
 "nbformat_minor": 2
}
